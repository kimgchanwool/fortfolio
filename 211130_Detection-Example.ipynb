{
 "cells": [
  {
   "cell_type": "code",
   "execution_count": 1,
   "metadata": {},
   "outputs": [
    {
     "name": "stderr",
     "output_type": "stream",
     "text": [
      "playsound is relying on a python 2 subprocess. Please use `pip3 install PyObjC` if you want playsound to run more efficiently.\n"
     ]
    }
   ],
   "source": [
    "import cv2\n",
    "import numpy as np\n",
    "import os\n",
    "from gtts import gTTS\n",
    "import tensorflow as tf\n",
    "import matplotlib.pyplot as plt\n",
    "import matplotlib as mpl\n",
    "import playsound\n",
    "\n",
    "\n",
    "from tensorflow.keras.layers import Input\n",
    "\n",
    "from src.yolo3.model import *\n",
    "from src.yolo3.detect import *\n",
    "\n",
    "from src.utils.image import *\n",
    "from src.utils.datagen import *\n",
    "from src.utils.fixes import *\n",
    "\n",
    "fix_tf_gpu()"
   ]
  },
  {
   "cell_type": "markdown",
   "metadata": {},
   "source": [
    "## **Helper functions**"
   ]
  },
  {
   "cell_type": "code",
   "execution_count": 2,
   "metadata": {},
   "outputs": [],
   "source": [
    "def prepare_model(approach):\n",
    "    '''\n",
    "    Prepare the YOLO model\n",
    "    '''\n",
    "    global input_shape, class_names, anchor_boxes, num_classes, num_anchors, model\n",
    "\n",
    "    # shape (height, width) of the imput image\n",
    "    input_shape = (416, 416)\n",
    "\n",
    "    # class names\n",
    "    if approach == 1: #헬맷, 조끼, 워커\n",
    "        class_names = ['H', 'V', 'W']\n",
    "\n",
    "    elif approach == 2: # 워커, 헬맷 쓴 워커, 조끼 입은 워커, 둘다 입은 워커\n",
    "        class_names  = ['W','WH','WV','WHV']\n",
    "\n",
    "    elif approach == 3: #워커인지 아닌지\n",
    "        class_names  = ['W']\n",
    "\n",
    "    else:\n",
    "        raise NotImplementedError('Approach should be 1, 2, or 3')\n",
    "\n",
    "    # anchor boxes\n",
    "    if approach == 1:\n",
    "        anchor_boxes = np.array(\n",
    "            [\n",
    "            np.array([[ 76,  59], [ 84, 136], [188, 225]]) /32, # output-1 anchor boxes\n",
    "            np.array([[ 25,  15], [ 46,  29], [ 27,  56]]) /16, # output-2 anchor boxes\n",
    "            np.array([[ 5,    3], [ 10,   8], [ 12,  26]]) /8   # output-3 anchor boxes\n",
    "            ],\n",
    "            dtype='float64'\n",
    "        )\n",
    "    else:\n",
    "        anchor_boxes = np.array(\n",
    "            [\n",
    "            np.array([[ 73, 158], [128, 209], [224, 246]]) /32, # output-1 anchor boxes\n",
    "            np.array([[ 32,  50], [ 40, 104], [ 76,  73]]) /16, # output-2 anchor boxes\n",
    "            np.array([[ 6,   11], [ 11,  23], [ 19,  36]]) /8   # output-3 anchor boxes\n",
    "            ],\n",
    "            dtype='float64'\n",
    "        )\n",
    "\n",
    "    # number of classes and number of anchors\n",
    "    num_classes = len(class_names)\n",
    "    num_anchors = anchor_boxes.shape[0] * anchor_boxes.shape[1]\n",
    "\n",
    "    # input and output\n",
    "    input_tensor = Input( shape=(input_shape[0], input_shape[1], 3) ) # input\n",
    "    num_out_filters = ( num_anchors//3 ) * ( 5 + num_classes )        # output\n",
    "\n",
    "    # build the model\n",
    "    model = yolo_body(input_tensor, num_out_filters)\n",
    "\n",
    "    # load weights\n",
    "    weight_path = f'./pictor-ppe-v302-a{approach}-yolo-v3-weights.h5' #가중치 불러와서\n",
    "    model.load_weights( weight_path )"
   ]
  },
  {
   "cell_type": "code",
   "execution_count": 3,
   "metadata": {},
   "outputs": [],
   "source": [
    "def get_detection(img):\n",
    "    # save a copy of the img\n",
    "    act_img = img.copy()\n",
    "\n",
    "    # shape of the image\n",
    "    ih, iw = act_img.shape[:2]\n",
    "\n",
    "    # preprocess the image\n",
    "    img = letterbox_image(img, input_shape)\n",
    "    img = np.expand_dims(img, 0)\n",
    "    image_data = np.array(img) / 255.\n",
    "\n",
    "    # raw prediction from yolo model\n",
    "    prediction = model.predict(image_data)\n",
    "\n",
    "    # process the raw prediction to get the bounding boxes\n",
    "    boxes = detection(\n",
    "        prediction,\n",
    "        anchor_boxes,\n",
    "        num_classes,\n",
    "        image_shape = (ih, iw),\n",
    "        input_shape = (416,416),\n",
    "        max_boxes = 10,\n",
    "        score_threshold=0.3,\n",
    "        iou_threshold=0.45,\n",
    "        classes_can_overlap=False)\n",
    "\n",
    "    # convert tensor to numpy\n",
    "    boxes = boxes[0].numpy()\n",
    "\n",
    "    # draw the detection on the actual image\n",
    "    return draw_detection(act_img, boxes, class_names), boxes "
   ]
  },
  {
   "cell_type": "code",
   "execution_count": 4,
   "metadata": {},
   "outputs": [],
   "source": [
    "def plt_imshow(img):\n",
    "    plt.figure(figsize=(5, 5))\n",
    "    plt.imshow(img)\n",
    "    plt.axis('off')"
   ]
  },
  {
   "cell_type": "code",
   "execution_count": 5,
   "metadata": {},
   "outputs": [],
   "source": [
    "def check_box(box):\n",
    "    l, t, r, b = box[:4]\n",
    "    i = 1\n",
    "    if abs(r-l)/ abs(b-t) < 0.1: #나눈 값이 1 : 9비율보다 크게 가로가 세로 9배이상\n",
    "        i = -1\n",
    "    return i"
   ]
  },
  {
   "cell_type": "code",
   "execution_count": 6,
   "metadata": {},
   "outputs": [],
   "source": [
    "def reading_from_user(input_text, index):\n",
    "    language = 'ko'\n",
    "    slow_audio_speed = False\n",
    "    filename = f\"output_{index}.mp3\"\n",
    "    audio_created =gTTS(text=input_text, lang=language, slow=slow_audio_speed)\n",
    "    audio_created.save(filename)\n",
    "\n",
    "    os.system(f'start {filename}') #실행까지"
   ]
  },
  {
   "cell_type": "code",
   "execution_count": 7,
   "metadata": {
    "scrolled": true
   },
   "outputs": [
    {
     "name": "stdout",
     "output_type": "stream",
     "text": [
      "Metal device set to: Apple M1\n"
     ]
    },
    {
     "name": "stderr",
     "output_type": "stream",
     "text": [
      "2021-12-08 11:20:17.483157: I tensorflow/core/common_runtime/pluggable_device/pluggable_device_factory.cc:305] Could not identify NUMA node of platform GPU ID 0, defaulting to 0. Your kernel may not have been built with NUMA support.\n",
      "2021-12-08 11:20:17.484208: I tensorflow/core/common_runtime/pluggable_device/pluggable_device_factory.cc:271] Created TensorFlow device (/job:localhost/replica:0/task:0/device:GPU:0 with 0 MB memory) -> physical PluggableDevice (device: 0, name: METAL, pci bus id: <undefined>)\n"
     ]
    },
    {
     "ename": "OSError",
     "evalue": "Unable to open file (unable to open file: name = './pictor-ppe-v302-a3-yolo-v3-weights.h5', errno = 2, error message = 'No such file or directory', flags = 0, o_flags = 0)",
     "output_type": "error",
     "traceback": [
      "\u001b[0;31m---------------------------------------------------------------------------\u001b[0m",
      "\u001b[0;31mOSError\u001b[0m                                   Traceback (most recent call last)",
      "\u001b[0;32m/var/folders/lv/yv4jzckd7p5_k2fsrxx6bg2m0000gn/T/ipykernel_643/2391245359.py\u001b[0m in \u001b[0;36m<module>\u001b[0;34m\u001b[0m\n\u001b[1;32m      2\u001b[0m \u001b[0;32mimport\u001b[0m \u001b[0mtime\u001b[0m\u001b[0;34m\u001b[0m\u001b[0;34m\u001b[0m\u001b[0m\n\u001b[1;32m      3\u001b[0m \u001b[0mstart\u001b[0m \u001b[0;34m=\u001b[0m \u001b[0mtime\u001b[0m\u001b[0;34m.\u001b[0m\u001b[0mtime\u001b[0m\u001b[0;34m(\u001b[0m\u001b[0;34m)\u001b[0m\u001b[0;34m\u001b[0m\u001b[0;34m\u001b[0m\u001b[0m\n\u001b[0;32m----> 4\u001b[0;31m \u001b[0mprepare_model\u001b[0m\u001b[0;34m(\u001b[0m\u001b[0mapproach\u001b[0m\u001b[0;34m=\u001b[0m\u001b[0;36m3\u001b[0m\u001b[0;34m)\u001b[0m\u001b[0;34m\u001b[0m\u001b[0;34m\u001b[0m\u001b[0m\n\u001b[0m\u001b[1;32m      5\u001b[0m \u001b[0;34m\u001b[0m\u001b[0m\n\u001b[1;32m      6\u001b[0m \u001b[0;32mfor\u001b[0m \u001b[0mi\u001b[0m \u001b[0;32min\u001b[0m \u001b[0mrange\u001b[0m\u001b[0;34m(\u001b[0m\u001b[0;36m1\u001b[0m\u001b[0;34m)\u001b[0m\u001b[0;34m:\u001b[0m\u001b[0;34m\u001b[0m\u001b[0;34m\u001b[0m\u001b[0m\n",
      "\u001b[0;32m/var/folders/lv/yv4jzckd7p5_k2fsrxx6bg2m0000gn/T/ipykernel_643/2772597965.py\u001b[0m in \u001b[0;36mprepare_model\u001b[0;34m(approach)\u001b[0m\n\u001b[1;32m     54\u001b[0m     \u001b[0;31m# load weights\u001b[0m\u001b[0;34m\u001b[0m\u001b[0;34m\u001b[0m\u001b[0m\n\u001b[1;32m     55\u001b[0m     \u001b[0mweight_path\u001b[0m \u001b[0;34m=\u001b[0m \u001b[0;34mf'./pictor-ppe-v302-a{approach}-yolo-v3-weights.h5'\u001b[0m \u001b[0;31m#가중치 불러와서\u001b[0m\u001b[0;34m\u001b[0m\u001b[0;34m\u001b[0m\u001b[0m\n\u001b[0;32m---> 56\u001b[0;31m     \u001b[0mmodel\u001b[0m\u001b[0;34m.\u001b[0m\u001b[0mload_weights\u001b[0m\u001b[0;34m(\u001b[0m \u001b[0mweight_path\u001b[0m \u001b[0;34m)\u001b[0m\u001b[0;34m\u001b[0m\u001b[0;34m\u001b[0m\u001b[0m\n\u001b[0m",
      "\u001b[0;32m~/miniforge3/lib/python3.9/site-packages/keras/utils/traceback_utils.py\u001b[0m in \u001b[0;36merror_handler\u001b[0;34m(*args, **kwargs)\u001b[0m\n\u001b[1;32m     65\u001b[0m     \u001b[0;32mexcept\u001b[0m \u001b[0mException\u001b[0m \u001b[0;32mas\u001b[0m \u001b[0me\u001b[0m\u001b[0;34m:\u001b[0m  \u001b[0;31m# pylint: disable=broad-except\u001b[0m\u001b[0;34m\u001b[0m\u001b[0;34m\u001b[0m\u001b[0m\n\u001b[1;32m     66\u001b[0m       \u001b[0mfiltered_tb\u001b[0m \u001b[0;34m=\u001b[0m \u001b[0m_process_traceback_frames\u001b[0m\u001b[0;34m(\u001b[0m\u001b[0me\u001b[0m\u001b[0;34m.\u001b[0m\u001b[0m__traceback__\u001b[0m\u001b[0;34m)\u001b[0m\u001b[0;34m\u001b[0m\u001b[0;34m\u001b[0m\u001b[0m\n\u001b[0;32m---> 67\u001b[0;31m       \u001b[0;32mraise\u001b[0m \u001b[0me\u001b[0m\u001b[0;34m.\u001b[0m\u001b[0mwith_traceback\u001b[0m\u001b[0;34m(\u001b[0m\u001b[0mfiltered_tb\u001b[0m\u001b[0;34m)\u001b[0m \u001b[0;32mfrom\u001b[0m \u001b[0;32mNone\u001b[0m\u001b[0;34m\u001b[0m\u001b[0;34m\u001b[0m\u001b[0m\n\u001b[0m\u001b[1;32m     68\u001b[0m     \u001b[0;32mfinally\u001b[0m\u001b[0;34m:\u001b[0m\u001b[0;34m\u001b[0m\u001b[0;34m\u001b[0m\u001b[0m\n\u001b[1;32m     69\u001b[0m       \u001b[0;32mdel\u001b[0m \u001b[0mfiltered_tb\u001b[0m\u001b[0;34m\u001b[0m\u001b[0;34m\u001b[0m\u001b[0m\n",
      "\u001b[0;32m~/miniforge3/lib/python3.9/site-packages/h5py/_hl/files.py\u001b[0m in \u001b[0;36m__init__\u001b[0;34m(self, name, mode, driver, libver, userblock_size, swmr, rdcc_nslots, rdcc_nbytes, rdcc_w0, track_order, fs_strategy, fs_persist, fs_threshold, **kwds)\u001b[0m\n\u001b[1;32m    422\u001b[0m             \u001b[0;32mwith\u001b[0m \u001b[0mphil\u001b[0m\u001b[0;34m:\u001b[0m\u001b[0;34m\u001b[0m\u001b[0;34m\u001b[0m\u001b[0m\n\u001b[1;32m    423\u001b[0m                 \u001b[0mfapl\u001b[0m \u001b[0;34m=\u001b[0m \u001b[0mmake_fapl\u001b[0m\u001b[0;34m(\u001b[0m\u001b[0mdriver\u001b[0m\u001b[0;34m,\u001b[0m \u001b[0mlibver\u001b[0m\u001b[0;34m,\u001b[0m \u001b[0mrdcc_nslots\u001b[0m\u001b[0;34m,\u001b[0m \u001b[0mrdcc_nbytes\u001b[0m\u001b[0;34m,\u001b[0m \u001b[0mrdcc_w0\u001b[0m\u001b[0;34m,\u001b[0m \u001b[0;34m**\u001b[0m\u001b[0mkwds\u001b[0m\u001b[0;34m)\u001b[0m\u001b[0;34m\u001b[0m\u001b[0;34m\u001b[0m\u001b[0m\n\u001b[0;32m--> 424\u001b[0;31m                 fid = make_fid(name, mode, userblock_size,\n\u001b[0m\u001b[1;32m    425\u001b[0m                                fapl, fcpl=make_fcpl(track_order=track_order, fs_strategy=fs_strategy,\n\u001b[1;32m    426\u001b[0m                                fs_persist=fs_persist, fs_threshold=fs_threshold),\n",
      "\u001b[0;32m~/miniforge3/lib/python3.9/site-packages/h5py/_hl/files.py\u001b[0m in \u001b[0;36mmake_fid\u001b[0;34m(name, mode, userblock_size, fapl, fcpl, swmr)\u001b[0m\n\u001b[1;32m    188\u001b[0m         \u001b[0;32mif\u001b[0m \u001b[0mswmr\u001b[0m \u001b[0;32mand\u001b[0m \u001b[0mswmr_support\u001b[0m\u001b[0;34m:\u001b[0m\u001b[0;34m\u001b[0m\u001b[0;34m\u001b[0m\u001b[0m\n\u001b[1;32m    189\u001b[0m             \u001b[0mflags\u001b[0m \u001b[0;34m|=\u001b[0m \u001b[0mh5f\u001b[0m\u001b[0;34m.\u001b[0m\u001b[0mACC_SWMR_READ\u001b[0m\u001b[0;34m\u001b[0m\u001b[0;34m\u001b[0m\u001b[0m\n\u001b[0;32m--> 190\u001b[0;31m         \u001b[0mfid\u001b[0m \u001b[0;34m=\u001b[0m \u001b[0mh5f\u001b[0m\u001b[0;34m.\u001b[0m\u001b[0mopen\u001b[0m\u001b[0;34m(\u001b[0m\u001b[0mname\u001b[0m\u001b[0;34m,\u001b[0m \u001b[0mflags\u001b[0m\u001b[0;34m,\u001b[0m \u001b[0mfapl\u001b[0m\u001b[0;34m=\u001b[0m\u001b[0mfapl\u001b[0m\u001b[0;34m)\u001b[0m\u001b[0;34m\u001b[0m\u001b[0;34m\u001b[0m\u001b[0m\n\u001b[0m\u001b[1;32m    191\u001b[0m     \u001b[0;32melif\u001b[0m \u001b[0mmode\u001b[0m \u001b[0;34m==\u001b[0m \u001b[0;34m'r+'\u001b[0m\u001b[0;34m:\u001b[0m\u001b[0;34m\u001b[0m\u001b[0;34m\u001b[0m\u001b[0m\n\u001b[1;32m    192\u001b[0m         \u001b[0mfid\u001b[0m \u001b[0;34m=\u001b[0m \u001b[0mh5f\u001b[0m\u001b[0;34m.\u001b[0m\u001b[0mopen\u001b[0m\u001b[0;34m(\u001b[0m\u001b[0mname\u001b[0m\u001b[0;34m,\u001b[0m \u001b[0mh5f\u001b[0m\u001b[0;34m.\u001b[0m\u001b[0mACC_RDWR\u001b[0m\u001b[0;34m,\u001b[0m \u001b[0mfapl\u001b[0m\u001b[0;34m=\u001b[0m\u001b[0mfapl\u001b[0m\u001b[0;34m)\u001b[0m\u001b[0;34m\u001b[0m\u001b[0;34m\u001b[0m\u001b[0m\n",
      "\u001b[0;32mh5py/_objects.pyx\u001b[0m in \u001b[0;36mh5py._objects.with_phil.wrapper\u001b[0;34m()\u001b[0m\n",
      "\u001b[0;32mh5py/_objects.pyx\u001b[0m in \u001b[0;36mh5py._objects.with_phil.wrapper\u001b[0;34m()\u001b[0m\n",
      "\u001b[0;32mh5py/h5f.pyx\u001b[0m in \u001b[0;36mh5py.h5f.open\u001b[0;34m()\u001b[0m\n",
      "\u001b[0;31mOSError\u001b[0m: Unable to open file (unable to open file: name = './pictor-ppe-v302-a3-yolo-v3-weights.h5', errno = 2, error message = 'No such file or directory', flags = 0, o_flags = 0)"
     ]
    }
   ],
   "source": [
    "# prepare the model\n",
    "import time\n",
    "start = time.time()\n",
    "prepare_model(approach=3)\n",
    "\n",
    "for i in range(1):\n",
    "    # read the image\n",
    "    img = cv2.imread( f'extras/sample-images/{i}.JPG' )\n",
    "    # resize\n",
    "    img = letterbox_image(img, input_shape) #레터박스\n",
    "\n",
    "    # get the detection on the image\n",
    "    tmp, boxes = get_detection(img) #디텍션 \n",
    "    \n",
    "    fin_boxes = []\n",
    "    for box in boxes:\n",
    "        #print(check_box(box))\n",
    "        if check_box(box) == 1:\n",
    "            fin_boxes.append(box)\n",
    "    # show the image\n",
    "    plt_imshow(img[:, :, ::-1])\n",
    "    \n",
    "    ##\n",
    "    tmp_2 = []\n",
    "    images_2 = []\n",
    "    img_2 = []\n",
    "    for index, i in enumerate(fin_boxes):\n",
    "        #print(index)\n",
    "        left, top, right, bottom, accuracy, classes = i\n",
    "        #print(left, top, right, bottom, accuracy, classes)\n",
    "        \n",
    "        if top < 10:\n",
    "            top = 10\n",
    "        if bottom > 405:\n",
    "            bottom = 405\n",
    "        if left < 10:\n",
    "            left = 10\n",
    "        if right > 405:\n",
    "            rigt = 405\n",
    "\n",
    "        tmp_2.append(img[int(top)-10:int(bottom)+10, int(left)-10:int(right)+10])\n",
    "        #plt.imshow(cv2.cvtColor(tmp_2[index], cv2.COLOR_BGR2RGB))\n",
    "\n",
    "        #cv2.imwrite(f'worker {index}.jpg', tmp_2[index])\n",
    "        \n",
    "        # prepare the model\n",
    "        prepare_model(approach=1)\n",
    "\n",
    "        # resize\n",
    "        images_2.append(letterbox_image(tmp_2[index], input_shape))\n",
    "\n",
    "        # get the detection on the image\n",
    "        imgss, boxes_2 = get_detection(images_2[index])\n",
    "        fin_boxes_2 = []\n",
    "        for box in boxes_2:\n",
    "            if check_box(box) == 1:\n",
    "                if box[5] < 2: #워커가 아닐때\n",
    "                    fin_boxes_2.append(box)\n",
    "        img_2.append(imgss)\n",
    "        # show the image\n",
    "        now = images_2[index]\n",
    "        plt_imshow(now[:, :, ::-1])\n",
    "        tmp_3 = []\n",
    "        images_3 = []\n",
    "        img_3 = []\n",
    "        \n",
    "        answer = 0\n",
    "        for index, i in enumerate(fin_boxes_2):\n",
    "            #print(index)\n",
    "            left, top, right, bottom, accuracy, classes = i\n",
    "            #print(left, top, right, bottom, accuracy, classes)\n",
    "\n",
    "            if top < 10:\n",
    "                top = 10\n",
    "            if bottom > 405:\n",
    "                bottom = 405\n",
    "            if left < 10:\n",
    "                left = 10\n",
    "            if right > 405:\n",
    "                rigt = 405\n",
    "\n",
    "            tmp_3.append(now[int(top)-10:int(bottom)+10, int(left)-10:int(right)+10])\n",
    "            #plt.imshow(cv2.cvtColor(tmp_2[index], cv2.COLOR_BGR2RGB))\n",
    "\n",
    "            #cv2.imwrite(f'worker {index}.jpg', tmp_2[index])\n",
    "\n",
    "            # prepare the model\n",
    "            prepare_model(approach=1)\n",
    "\n",
    "            # resize\n",
    "            images_3.append(letterbox_image(tmp_3[index], input_shape))\n",
    "\n",
    "            # get the detection on the image\n",
    "            imgss, boxes_3 = get_detection(images_3[index])\n",
    "            #fin_boxes_3 = []\n",
    "            #for box in boxes_2:\n",
    "            #    if check_box(box) == 1:\n",
    "            #        fin_boxes_2.append(box)\n",
    "            img_3.append(imgss)\n",
    "            # show the image\n",
    "            if classes == 0:\n",
    "                print('안전모를 착용하였습니다!')\n",
    "                answer += 1\n",
    "            elif classes == 1:\n",
    "                print('안전 조끼를 착용하였습니다!')\n",
    "                answer += 2\n",
    "            plt_imshow(images_3[index][:, :, ::-1])\n",
    "            nows = time.time()\n",
    "            nows  = nows - start\n",
    "            print(f'현재 {nows}')\n",
    "        if answer == 3:\n",
    "            now_answer = '안전한 상태입니다.'\n",
    "        elif answer == 2:\n",
    "            now_answer = '주의하셔야 합니다.'\n",
    "        else:\n",
    "            now_answer = '위험합니다! 안전 장비를 착용하십시오'\n",
    "        print('------------------------')\n",
    "        reading_from_user(now_answer, index)\n",
    "        #playsound.playsound(f'./output_{index}.mp3')\n",
    "\n",
    "\n",
    "if __name__ == '__main__':\n",
    "    reading_from_user()\n",
    "end = time.time()\n",
    "print(end - start)"
   ]
  },
  {
   "cell_type": "code",
   "execution_count": null,
   "metadata": {},
   "outputs": [],
   "source": [
    "import grob"
   ]
  },
  {
   "cell_type": "code",
   "execution_count": null,
   "metadata": {},
   "outputs": [],
   "source": [
    "grob.grob"
   ]
  },
  {
   "cell_type": "code",
   "execution_count": null,
   "metadata": {},
   "outputs": [],
   "source": [
    "# 명수당 8초"
   ]
  },
  {
   "cell_type": "code",
   "execution_count": 27,
   "metadata": {},
   "outputs": [
    {
     "name": "stdout",
     "output_type": "stream",
     "text": [
      "True\n",
      "학습을 진행하는 기기: cuda:0\n"
     ]
    }
   ],
   "source": [
    "import torch \n",
    "\n",
    "USE_CUDA = torch.cuda.is_available() \n",
    "print(USE_CUDA)\n",
    "device = torch.device('cuda:0' if USE_CUDA else 'cpu') \n",
    "print('학습을 진행하는 기기:',device)"
   ]
  },
  {
   "cell_type": "code",
   "execution_count": null,
   "metadata": {},
   "outputs": [],
   "source": [
    "time.time()"
   ]
  },
  {
   "cell_type": "code",
   "execution_count": 36,
   "metadata": {},
   "outputs": [
    {
     "data": {
      "text/plain": [
       "[]"
      ]
     },
     "execution_count": 36,
     "metadata": {},
     "output_type": "execute_result"
    }
   ],
   "source": [
    "fin_boxes_2"
   ]
  },
  {
   "cell_type": "code",
   "execution_count": null,
   "metadata": {},
   "outputs": [],
   "source": [
    "len(images)"
   ]
  },
  {
   "cell_type": "code",
   "execution_count": null,
   "metadata": {},
   "outputs": [],
   "source": [
    "fin_boxes_2"
   ]
  },
  {
   "cell_type": "code",
   "execution_count": null,
   "metadata": {},
   "outputs": [],
   "source": [
    "fin_boxes_2"
   ]
  },
  {
   "cell_type": "code",
   "execution_count": null,
   "metadata": {
    "scrolled": true
   },
   "outputs": [],
   "source": [
    "plt_imshow(imgss[0][:, :, ::-1])"
   ]
  },
  {
   "cell_type": "code",
   "execution_count": 65,
   "metadata": {},
   "outputs": [
    {
     "data": {
      "text/plain": [
       "416"
      ]
     },
     "execution_count": 65,
     "metadata": {},
     "output_type": "execute_result"
    }
   ],
   "source": [
    "len(imgss)"
   ]
  },
  {
   "cell_type": "code",
   "execution_count": 66,
   "metadata": {},
   "outputs": [
    {
     "data": {
      "text/plain": [
       "1"
      ]
     },
     "execution_count": 66,
     "metadata": {},
     "output_type": "execute_result"
    }
   ],
   "source": [
    "len(imgs)"
   ]
  },
  {
   "cell_type": "code",
   "execution_count": 87,
   "metadata": {},
   "outputs": [
    {
     "data": {
      "image/png": "[encoded data removed]",
      "text/plain": [
       "<Figure size 360x360 with 1 Axes>"
      ]
     },
     "metadata": {
      "needs_background": "light"
     },
     "output_type": "display_data"
    }
   ],
   "source": [
    "plt_imshow(imgs[0][:, :, ::-1])"
   ]
  },
  {
   "cell_type": "code",
   "execution_count": 88,
   "metadata": {},
   "outputs": [
    {
     "data": {
      "text/plain": [
       "array([[147.03656   ,  10.663086  , 268.11844   , 403.41943   ,\n",
       "          0.9999331 ,   2.        ],\n",
       "       [169.00471   ,  81.759514  , 271.6382    , 220.05106   ,\n",
       "          0.9996804 ,   1.        ],\n",
       "       [165.17197   ,  18.425371  , 227.66507   ,  62.389587  ,\n",
       "          0.8905389 ,   0.        ],\n",
       "       [133.08769   ,  28.660477  , 158.40916   , 399.16626   ,\n",
       "          0.60810536,   2.        ]], dtype=float32)"
      ]
     },
     "execution_count": 88,
     "metadata": {},
     "output_type": "execute_result"
    }
   ],
   "source": [
    "boxes_2"
   ]
  },
  {
   "cell_type": "code",
   "execution_count": 99,
   "metadata": {},
   "outputs": [
    {
     "data": {
      "text/plain": [
       "0.06834298"
      ]
     },
     "execution_count": 99,
     "metadata": {},
     "output_type": "execute_result"
    }
   ],
   "source": [
    "l, t, r, b = boxes_2[3][:4]\n",
    "\n",
    "if abs(r-l)/ abs(b-t) > 30:\n",
    "    continue"
   ]
  },
  {
   "cell_type": "code",
   "execution_count": 39,
   "metadata": {},
   "outputs": [
    {
     "ename": "ModuleNotFoundError",
     "evalue": "No module named 'GTTS'",
     "output_type": "error",
     "traceback": [
      "\u001b[0;31m---------------------------------------------------------------------------\u001b[0m",
      "\u001b[0;31mModuleNotFoundError\u001b[0m                       Traceback (most recent call last)",
      "\u001b[0;32m/tmp/ipykernel_32437/349970629.py\u001b[0m in \u001b[0;36m<module>\u001b[0;34m\u001b[0m\n\u001b[0;32m----> 1\u001b[0;31m \u001b[0;32mimport\u001b[0m \u001b[0mGTTS\u001b[0m\u001b[0;34m\u001b[0m\u001b[0;34m\u001b[0m\u001b[0m\n\u001b[0m",
      "\u001b[0;31mModuleNotFoundError\u001b[0m: No module named 'GTTS'"
     ]
    }
   ],
   "source": [
    "import GTTS"
   ]
  },
  {
   "cell_type": "code",
   "execution_count": 50,
   "metadata": {},
   "outputs": [
    {
     "ename": "SyntaxError",
     "evalue": "invalid syntax (1189418006.py, line 1)",
     "output_type": "error",
     "traceback": [
      "\u001b[0;36m  File \u001b[0;32m\"/tmp/ipykernel_32437/1189418006.py\"\u001b[0;36m, line \u001b[0;32m1\u001b[0m\n\u001b[0;31m    import os from gtts import gTTS\u001b[0m\n\u001b[0m              ^\u001b[0m\n\u001b[0;31mSyntaxError\u001b[0m\u001b[0;31m:\u001b[0m invalid syntax\n"
     ]
    }
   ],
   "source": [
    "import os \n",
    "from gtts import gTTS"
   ]
  },
  {
   "cell_type": "code",
   "execution_count": null,
   "metadata": {},
   "outputs": [],
   "source": []
  },
  {
   "cell_type": "code",
   "execution_count": 40,
   "metadata": {},
   "outputs": [
    {
     "name": "stdout",
     "output_type": "stream",
     "text": [
      "뭐라할까?\n",
      "say\n"
     ]
    },
    {
     "ename": "NameError",
     "evalue": "name 'gTTS' is not defined",
     "output_type": "error",
     "traceback": [
      "\u001b[0;31m---------------------------------------------------------------------------\u001b[0m",
      "\u001b[0;31mNameError\u001b[0m                                 Traceback (most recent call last)",
      "\u001b[0;32m/tmp/ipykernel_32437/2751146021.py\u001b[0m in \u001b[0;36m<module>\u001b[0;34m\u001b[0m\n\u001b[1;32m     13\u001b[0m \u001b[0;34m\u001b[0m\u001b[0m\n\u001b[1;32m     14\u001b[0m \u001b[0;32mif\u001b[0m \u001b[0m__name__\u001b[0m \u001b[0;34m==\u001b[0m \u001b[0;34m'__main__'\u001b[0m\u001b[0;34m:\u001b[0m\u001b[0;34m\u001b[0m\u001b[0;34m\u001b[0m\u001b[0m\n\u001b[0;32m---> 15\u001b[0;31m     \u001b[0mreading_from_user\u001b[0m\u001b[0;34m(\u001b[0m\u001b[0;34m)\u001b[0m\u001b[0;34m\u001b[0m\u001b[0;34m\u001b[0m\u001b[0m\n\u001b[0m",
      "\u001b[0;32m/tmp/ipykernel_32437/2751146021.py\u001b[0m in \u001b[0;36mreading_from_user\u001b[0;34m()\u001b[0m\n\u001b[1;32m      6\u001b[0m \u001b[0;32mdef\u001b[0m \u001b[0mreading_from_user\u001b[0m\u001b[0;34m(\u001b[0m\u001b[0;34m)\u001b[0m\u001b[0;34m:\u001b[0m\u001b[0;34m\u001b[0m\u001b[0;34m\u001b[0m\u001b[0m\n\u001b[1;32m      7\u001b[0m     \u001b[0muser_input\u001b[0m \u001b[0;34m=\u001b[0m \u001b[0minput\u001b[0m\u001b[0;34m(\u001b[0m\u001b[0;34m\"뭐라할까?\\n\"\u001b[0m\u001b[0;34m)\u001b[0m\u001b[0;34m\u001b[0m\u001b[0;34m\u001b[0m\u001b[0m\n\u001b[0;32m----> 8\u001b[0;31m     \u001b[0maudio_created\u001b[0m \u001b[0;34m=\u001b[0m\u001b[0mgTTS\u001b[0m\u001b[0;34m(\u001b[0m\u001b[0mtext\u001b[0m\u001b[0;34m=\u001b[0m\u001b[0muser_input\u001b[0m\u001b[0;34m,\u001b[0m \u001b[0mlang\u001b[0m\u001b[0;34m=\u001b[0m\u001b[0mlanguage\u001b[0m\u001b[0;34m,\u001b[0m \u001b[0mslow\u001b[0m\u001b[0;34m=\u001b[0m\u001b[0mslow_audio_speed\u001b[0m\u001b[0;34m)\u001b[0m\u001b[0;34m\u001b[0m\u001b[0;34m\u001b[0m\u001b[0m\n\u001b[0m\u001b[1;32m      9\u001b[0m     \u001b[0maudio_created\u001b[0m\u001b[0;34m.\u001b[0m\u001b[0msave\u001b[0m\u001b[0;34m(\u001b[0m\u001b[0mfilename\u001b[0m\u001b[0;34m)\u001b[0m\u001b[0;34m\u001b[0m\u001b[0;34m\u001b[0m\u001b[0m\n\u001b[1;32m     10\u001b[0m \u001b[0;34m\u001b[0m\u001b[0m\n",
      "\u001b[0;31mNameError\u001b[0m: name 'gTTS' is not defined"
     ]
    }
   ],
   "source": [
    "text_to_read = \"안녕\"\n",
    "language = 'ko'\n",
    "slow_audio_speed = False\n",
    "filename = \"my_file.mp3\"\n",
    "\n",
    "def reading_from_user():\n",
    "    user_input = input(\"뭐라할까?\\n\")\n",
    "    audio_created =gTTS(text=user_input, lang=language, slow=slow_audio_speed)\n",
    "    audio_created.save(filename)\n",
    "\n",
    "    os.system(f'start {filename}')\n",
    "\n",
    "\n",
    "if __name__ == '__main__':\n",
    "    reading_from_user()"
   ]
  },
  {
   "cell_type": "code",
   "execution_count": 51,
   "metadata": {},
   "outputs": [
    {
     "name": "stdout",
     "output_type": "stream",
     "text": [
      "Looking in indexes: https://pypi.org/simple, https://pypi.ngc.nvidia.com\n",
      "Collecting gTTS\n",
      "  Downloading gTTS-2.2.3-py3-none-any.whl (25 kB)\n",
      "Requirement already satisfied: click in /opt/conda/lib/python3.8/site-packages (from gTTS) (8.0.1)\n",
      "Requirement already satisfied: requests in /opt/conda/lib/python3.8/site-packages (from gTTS) (2.26.0)\n",
      "Requirement already satisfied: six in /opt/conda/lib/python3.8/site-packages (from gTTS) (1.16.0)\n",
      "Requirement already satisfied: idna<4,>=2.5 in /opt/conda/lib/python3.8/site-packages (from requests->gTTS) (3.1)\n",
      "Requirement already satisfied: urllib3<1.27,>=1.21.1 in /opt/conda/lib/python3.8/site-packages (from requests->gTTS) (1.26.7)\n",
      "Requirement already satisfied: certifi>=2017.4.17 in /opt/conda/lib/python3.8/site-packages (from requests->gTTS) (2021.5.30)\n",
      "Requirement already satisfied: charset-normalizer~=2.0.0 in /opt/conda/lib/python3.8/site-packages (from requests->gTTS) (2.0.0)\n",
      "Installing collected packages: gTTS\n",
      "Successfully installed gTTS-2.2.3\n",
      "\u001b[33mWARNING: Running pip as the 'root' user can result in broken permissions and conflicting behaviour with the system package manager. It is recommended to use a virtual environment instead: https://pip.pypa.io/warnings/venv\u001b[0m\n",
      "Note: you may need to restart the kernel to use updated packages.\n"
     ]
    }
   ],
   "source": [
    "pip install gTTS"
   ]
  },
  {
   "cell_type": "code",
   "execution_count": null,
   "metadata": {},
   "outputs": [],
   "source": []
  }
 ],
 "metadata": {
  "kernelspec": {
   "display_name": "Python 3 (ipykernel)",
   "language": "python",
   "name": "python3"
  },
  "language_info": {
   "codemirror_mode": {
    "name": "ipython",
    "version": 3
   },
   "file_extension": ".py",
   "mimetype": "text/x-python",
   "name": "python",
   "nbconvert_exporter": "python",
   "pygments_lexer": "ipython3",
   "version": "3.9.7"
  }
 },
 "nbformat": 4,
 "nbformat_minor": 2
}
